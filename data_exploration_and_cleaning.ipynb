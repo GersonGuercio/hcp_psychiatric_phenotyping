{
 "cells": [
  {
   "cell_type": "code",
   "execution_count": 1,
   "metadata": {},
   "outputs": [],
   "source": [
    "import pandas as pd\n",
    "import numpy as np"
   ]
  },
  {
   "cell_type": "code",
   "execution_count": 2,
   "metadata": {},
   "outputs": [
    {
     "name": "stdout",
     "output_type": "stream",
     "text": [
      "(1204, 75)\n"
     ]
    }
   ],
   "source": [
    "# import data\n",
    "data = pd.read_csv('hcp_drug_prediction_data_uncleaned.csv')\n",
    "print(data.shape)"
   ]
  },
  {
   "cell_type": "code",
   "execution_count": 3,
   "metadata": {},
   "outputs": [
    {
     "name": "stdout",
     "output_type": "stream",
     "text": [
      "Index(['Subject', 'Gender', 'Age', 'PSQI_Score', 'PicSeq_AgeAdj',\n",
      "       'CardSort_AgeAdj', 'Flanker_AgeAdj', 'PMAT24_A_CR', 'PMAT24_A_SI',\n",
      "       'PMAT24_A_RTCR', 'ReadEng_AgeAdj', 'PicVocab_AgeAdj',\n",
      "       'ProcSpeed_AgeAdj', 'DDisc_SV_1mo_200', 'DDisc_SV_6mo_200',\n",
      "       'DDisc_SV_1yr_200', 'DDisc_SV_3yr_200', 'DDisc_SV_5yr_200',\n",
      "       'DDisc_SV_10yr_200', 'DDisc_SV_1mo_40K', 'DDisc_SV_6mo_40K',\n",
      "       'DDisc_SV_1yr_40K', 'DDisc_SV_3yr_40K', 'DDisc_SV_5yr_40K',\n",
      "       'DDisc_SV_10yr_40K', 'DDisc_AUC_200', 'DDisc_AUC_40K', 'VSPLOT_TC',\n",
      "       'VSPLOT_CRTE', 'VSPLOT_OFF', 'SCPT_TP', 'SCPT_TN', 'SCPT_FP', 'SCPT_FN',\n",
      "       'SCPT_TPRT', 'SCPT_SEN', 'SCPT_SPEC', 'SCPT_LRNR', 'IWRD_TOT',\n",
      "       'IWRD_RTC', 'ListSort_AgeAdj', 'CogFluidComp_AgeAdj',\n",
      "       'CogEarlyComp_AgeAdj', 'CogTotalComp_AgeAdj', 'CogCrystalComp_AgeAdj',\n",
      "       'ER40_CR', 'ER40_CRT', 'ER40ANG', 'ER40FEAR', 'ER40HAP', 'ER40NOE',\n",
      "       'ER40SAD', 'AngAffect_Unadj', 'AngHostil_Unadj', 'AngAggr_Unadj',\n",
      "       'FearAffect_Unadj', 'FearSomat_Unadj', 'Sadness_Unadj',\n",
      "       'LifeSatisf_Unadj', 'MeanPurp_Unadj', 'PosAffect_Unadj',\n",
      "       'Friendship_Unadj', 'Loneliness_Unadj', 'PercHostil_Unadj',\n",
      "       'PercReject_Unadj', 'EmotSupp_Unadj', 'InstruSupp_Unadj',\n",
      "       'PercStress_Unadj', 'SelfEff_Unadj', 'NEOFAC_A', 'NEOFAC_O', 'NEOFAC_C',\n",
      "       'NEOFAC_N', 'NEOFAC_E', 'sub_use'],\n",
      "      dtype='object')\n"
     ]
    }
   ],
   "source": [
    "# brief glimps of the data\n",
    "# print(data.head)\n",
    "print(data.columns) # sub_use = drug label; 0 = no; 1 = yes"
   ]
  },
  {
   "cell_type": "code",
   "execution_count": 4,
   "metadata": {},
   "outputs": [
    {
     "data": {
      "text/plain": [
       "Gender\n",
       "F    655\n",
       "M    549\n",
       "dtype: int64"
      ]
     },
     "execution_count": 4,
     "metadata": {},
     "output_type": "execute_result"
    }
   ],
   "source": [
    "# gender counts\n",
    "data.groupby('Gender').size()"
   ]
  },
  {
   "cell_type": "code",
   "execution_count": 5,
   "metadata": {},
   "outputs": [
    {
     "data": {
      "text/plain": [
       "sub_use\n",
       "0    911\n",
       "1    293\n",
       "dtype: int64"
      ]
     },
     "execution_count": 5,
     "metadata": {},
     "output_type": "execute_result"
    }
   ],
   "source": [
    "# sub_use counts\n",
    "data.groupby('sub_use').size()"
   ]
  },
  {
   "cell_type": "code",
   "execution_count": 6,
   "metadata": {
    "scrolled": true
   },
   "outputs": [
    {
     "data": {
      "text/plain": [
       "Gender  sub_use\n",
       "F       0          554\n",
       "        1          101\n",
       "M       0          357\n",
       "        1          192\n",
       "dtype: int64"
      ]
     },
     "execution_count": 6,
     "metadata": {},
     "output_type": "execute_result"
    }
   ],
   "source": [
    "# gender x sub_use counts\n",
    "data.groupby(['Gender', 'sub_use']).size()"
   ]
  },
  {
   "cell_type": "code",
   "execution_count": 7,
   "metadata": {},
   "outputs": [
    {
     "data": {
      "text/plain": [
       "Age\n",
       "22-25    247\n",
       "26-30    526\n",
       "31-35    417\n",
       "36+       14\n",
       "dtype: int64"
      ]
     },
     "execution_count": 7,
     "metadata": {},
     "output_type": "execute_result"
    }
   ],
   "source": [
    "data.groupby('Age').size()"
   ]
  },
  {
   "cell_type": "code",
   "execution_count": 8,
   "metadata": {},
   "outputs": [
    {
     "name": "stdout",
     "output_type": "stream",
     "text": [
      "CogTotalComp_AgeAdj      19\n",
      "CogFluidComp_AgeAdj      18\n",
      "CogEarlyComp_AgeAdj      15\n",
      "SCPT_TPRT                12\n",
      "CogCrystalComp_AgeAdj    10\n",
      "                         ..\n",
      "ReadEng_AgeAdj            0\n",
      "PicVocab_AgeAdj           0\n",
      "ProcSpeed_AgeAdj          0\n",
      "ListSort_AgeAdj           0\n",
      "Subject                   0\n",
      "Length: 75, dtype: int64\n"
     ]
    }
   ],
   "source": [
    "# get NA counts in columns\n",
    "# missing values = NA\n",
    "na_counts_cols = data.isnull().sum().sort_values(ascending = False)\n",
    "print(na_counts_cols)"
   ]
  },
  {
   "cell_type": "code",
   "execution_count": 9,
   "metadata": {},
   "outputs": [
    {
     "name": "stdout",
     "output_type": "stream",
     "text": [
      "0       0\n",
      "1       0\n",
      "2       0\n",
      "3       0\n",
      "4       0\n",
      "       ..\n",
      "1199    0\n",
      "1200    0\n",
      "1201    0\n",
      "1202    0\n",
      "1203    0\n",
      "Length: 1204, dtype: int64\n"
     ]
    },
    {
     "data": {
      "text/plain": [
       "35"
      ]
     },
     "execution_count": 9,
     "metadata": {},
     "output_type": "execute_result"
    }
   ],
   "source": [
    "# get NA counts in rows\n",
    "na_counts_rows = data.isnull().sum(axis = 1)\n",
    "print(na_counts_rows)\n",
    "sum(na_counts_rows > 0) # number of subjects missing ANY measure"
   ]
  },
  {
   "cell_type": "code",
   "execution_count": 10,
   "metadata": {},
   "outputs": [
    {
     "data": {
      "text/plain": [
       "Gender  sub_use\n",
       "F       0          22\n",
       "        1           4\n",
       "M       0           6\n",
       "        1           3\n",
       "dtype: int64"
      ]
     },
     "execution_count": 10,
     "metadata": {},
     "output_type": "execute_result"
    }
   ],
   "source": [
    "# figure out which and how many subjects are missing a measure \n",
    "missing_data_rows = (na_counts_rows > 0) # figure out which subjects are missing a measure\n",
    "data.loc[missing_data_rows].groupby(['Gender','sub_use']).size() # number of subjects (gender x sub_use) with missing data"
   ]
  },
  {
   "cell_type": "code",
   "execution_count": 11,
   "metadata": {},
   "outputs": [
    {
     "name": "stdout",
     "output_type": "stream",
     "text": [
      "(1169, 75)\n"
     ]
    }
   ],
   "source": [
    "# remove subjects with a missing measure from the data\n",
    "clean_data = data[-missing_data_rows]\n",
    "print(clean_data.shape)\n",
    "clean_data = clean_data.reset_index(drop=True)\n",
    "# clean_data.groupby(['Gender', 'sub_use']).size()\n",
    "# print(clean_data.head)"
   ]
  },
  {
   "cell_type": "code",
   "execution_count": 12,
   "metadata": {},
   "outputs": [
    {
     "data": {
      "text/plain": [
       "array(['22-25', '26-30', '31-35', '36+'], dtype=object)"
      ]
     },
     "execution_count": 12,
     "metadata": {},
     "output_type": "execute_result"
    }
   ],
   "source": [
    "clean_data['Age'].unique()"
   ]
  },
  {
   "cell_type": "code",
   "execution_count": 13,
   "metadata": {},
   "outputs": [
    {
     "name": "stdout",
     "output_type": "stream",
     "text": [
      "(1169,)\n"
     ]
    }
   ],
   "source": [
    "# 1 = 22-25\n",
    "# 2 = 26-30\n",
    "# 3 = 31-35\n",
    "age_recoded = np.where(clean_data['Age']=='22-25', 1, \n",
    "                  np.where(clean_data['Age']=='26-30', 2, \n",
    "                      np.where(clean_data['Age']=='31-35', 3, 4))) \n",
    "print(age_recoded.shape)"
   ]
  },
  {
   "cell_type": "code",
   "execution_count": 14,
   "metadata": {},
   "outputs": [],
   "source": [
    "# 0 = Male\n",
    "# 1 = Female\n",
    "gender_recoded = np.where(clean_data['Gender'] == 'M', 0, 1)"
   ]
  },
  {
   "cell_type": "code",
   "execution_count": 15,
   "metadata": {},
   "outputs": [
    {
     "data": {
      "text/plain": [
       "(1169, 75)"
      ]
     },
     "execution_count": 15,
     "metadata": {},
     "output_type": "execute_result"
    }
   ],
   "source": [
    "clean_data.shape"
   ]
  },
  {
   "cell_type": "code",
   "execution_count": 16,
   "metadata": {},
   "outputs": [],
   "source": [
    "clean_data = pd.concat([clean_data, pd.DataFrame({'Age_recoded': age_recoded, 'Gender_recoded': gender_recoded})], axis = 1)\n",
    "clean_data = clean_data.drop(['Age', 'Gender'], axis = 1)"
   ]
  },
  {
   "cell_type": "code",
   "execution_count": 18,
   "metadata": {},
   "outputs": [
    {
     "name": "stdout",
     "output_type": "stream",
     "text": [
      "   Subject  PSQI_Score  PicSeq_AgeAdj  CardSort_AgeAdj  Flanker_AgeAdj  \\\n",
      "0   100004           8         112.44            88.64          111.01   \n",
      "1   100206           6         118.78           104.94          116.55   \n",
      "2   100307           4         103.45           109.92          101.90   \n",
      "3   100408           4         125.19           100.77          113.51   \n",
      "4   100610           4         101.69           115.18          114.18   \n",
      "\n",
      "   PMAT24_A_CR  PMAT24_A_SI  PMAT24_A_RTCR  ReadEng_AgeAdj  PicVocab_AgeAdj  \\\n",
      "0         19.0          0.0        15590.0        96.91405         104.9375   \n",
      "1         20.0          0.0        18574.5       103.44410         117.0361   \n",
      "2         17.0          2.0        11839.0        98.73000          96.8100   \n",
      "3          7.0         12.0         3042.0       125.64000         132.6300   \n",
      "4         23.0          0.0        12280.0       132.41240         146.5971   \n",
      "\n",
      "   ...  PercStress_Unadj  SelfEff_Unadj  NEOFAC_A  NEOFAC_O  NEOFAC_C  \\\n",
      "0  ...              55.4           39.6      27.0      15.0      28.0   \n",
      "1  ...              57.8           44.0      29.0      23.0      26.0   \n",
      "2  ...              57.9           37.5      37.0      24.0      35.0   \n",
      "3  ...              46.8           56.4      33.0      29.0      34.0   \n",
      "4  ...              37.8           53.2      31.0      33.0      36.0   \n",
      "\n",
      "   NEOFAC_N  NEOFAC_E  sub_use  Age_recoded  Gender_recoded  \n",
      "0      24.0      25.0        0            1               0  \n",
      "1      21.0      32.0        0            2               0  \n",
      "2      15.0      37.0        0            2               1  \n",
      "3      15.0      33.0        1            3               0  \n",
      "4       7.0      15.0        0            2               0  \n",
      "\n",
      "[5 rows x 75 columns]\n",
      "(1169, 75)\n"
     ]
    }
   ],
   "source": [
    "print(clean_data.head())\n",
    "print(clean_data.shape)"
   ]
  },
  {
   "cell_type": "code",
   "execution_count": 19,
   "metadata": {},
   "outputs": [],
   "source": [
    "# output the clean data\n",
    "clean_data.to_csv('hcp_drug_prediction_data_cleaned.csv', index = False)"
   ]
  }
 ],
 "metadata": {
  "kernelspec": {
   "display_name": "Python 3",
   "language": "python",
   "name": "python3"
  },
  "language_info": {
   "codemirror_mode": {
    "name": "ipython",
    "version": 3
   },
   "file_extension": ".py",
   "mimetype": "text/x-python",
   "name": "python",
   "nbconvert_exporter": "python",
   "pygments_lexer": "ipython3",
   "version": "3.7.3"
  }
 },
 "nbformat": 4,
 "nbformat_minor": 2
}

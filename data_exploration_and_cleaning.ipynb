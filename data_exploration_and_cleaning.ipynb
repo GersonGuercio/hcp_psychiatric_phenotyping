{
 "cells": [
  {
   "cell_type": "code",
   "execution_count": 1,
   "metadata": {},
   "outputs": [],
   "source": [
    "import pandas as pd\n",
    "import numpy as np"
   ]
  },
  {
   "cell_type": "code",
   "execution_count": 2,
   "metadata": {},
   "outputs": [
    {
     "name": "stdout",
     "output_type": "stream",
     "text": [
      "(1204, 75)\n"
     ]
    }
   ],
   "source": [
    "# import data\n",
    "data = pd.read_csv('hcp_drug_prediction_data_uncleaned.csv')\n",
    "print(data.shape)"
   ]
  },
  {
   "cell_type": "code",
   "execution_count": 3,
   "metadata": {},
   "outputs": [
    {
     "name": "stdout",
     "output_type": "stream",
     "text": [
      "Index(['Subject', 'Gender', 'Age', 'PSQI_Score', 'PicSeq_AgeAdj',\n",
      "       'CardSort_AgeAdj', 'Flanker_AgeAdj', 'PMAT24_A_CR', 'PMAT24_A_SI',\n",
      "       'PMAT24_A_RTCR', 'ReadEng_AgeAdj', 'PicVocab_AgeAdj',\n",
      "       'ProcSpeed_AgeAdj', 'DDisc_SV_1mo_200', 'DDisc_SV_6mo_200',\n",
      "       'DDisc_SV_1yr_200', 'DDisc_SV_3yr_200', 'DDisc_SV_5yr_200',\n",
      "       'DDisc_SV_10yr_200', 'DDisc_SV_1mo_40K', 'DDisc_SV_6mo_40K',\n",
      "       'DDisc_SV_1yr_40K', 'DDisc_SV_3yr_40K', 'DDisc_SV_5yr_40K',\n",
      "       'DDisc_SV_10yr_40K', 'DDisc_AUC_200', 'DDisc_AUC_40K', 'VSPLOT_TC',\n",
      "       'VSPLOT_CRTE', 'VSPLOT_OFF', 'SCPT_TP', 'SCPT_TN', 'SCPT_FP', 'SCPT_FN',\n",
      "       'SCPT_TPRT', 'SCPT_SEN', 'SCPT_SPEC', 'SCPT_LRNR', 'IWRD_TOT',\n",
      "       'IWRD_RTC', 'ListSort_AgeAdj', 'CogFluidComp_AgeAdj',\n",
      "       'CogEarlyComp_AgeAdj', 'CogTotalComp_AgeAdj', 'CogCrystalComp_AgeAdj',\n",
      "       'ER40_CR', 'ER40_CRT', 'ER40ANG', 'ER40FEAR', 'ER40HAP', 'ER40NOE',\n",
      "       'ER40SAD', 'AngAffect_Unadj', 'AngHostil_Unadj', 'AngAggr_Unadj',\n",
      "       'FearAffect_Unadj', 'FearSomat_Unadj', 'Sadness_Unadj',\n",
      "       'LifeSatisf_Unadj', 'MeanPurp_Unadj', 'PosAffect_Unadj',\n",
      "       'Friendship_Unadj', 'Loneliness_Unadj', 'PercHostil_Unadj',\n",
      "       'PercReject_Unadj', 'EmotSupp_Unadj', 'InstruSupp_Unadj',\n",
      "       'PercStress_Unadj', 'SelfEff_Unadj', 'NEOFAC_A', 'NEOFAC_O', 'NEOFAC_C',\n",
      "       'NEOFAC_N', 'NEOFAC_E', 'sub_use'],\n",
      "      dtype='object')\n"
     ]
    }
   ],
   "source": [
    "# brief glimps of the data\n",
    "# print(data.head)\n",
    "print(data.columns) # sub_use = drug label; 0 = no; 1 = yes"
   ]
  },
  {
   "cell_type": "code",
   "execution_count": 4,
   "metadata": {},
   "outputs": [
    {
     "data": {
      "text/plain": [
       "Gender\n",
       "F    655\n",
       "M    549\n",
       "dtype: int64"
      ]
     },
     "execution_count": 4,
     "metadata": {},
     "output_type": "execute_result"
    }
   ],
   "source": [
    "# gender counts\n",
    "data.groupby('Gender').size()"
   ]
  },
  {
   "cell_type": "code",
   "execution_count": 5,
   "metadata": {},
   "outputs": [
    {
     "data": {
      "text/plain": [
       "sub_use\n",
       "0    911\n",
       "1    293\n",
       "dtype: int64"
      ]
     },
     "execution_count": 5,
     "metadata": {},
     "output_type": "execute_result"
    }
   ],
   "source": [
    "# sub_use counts\n",
    "data.groupby('sub_use').size()"
   ]
  },
  {
   "cell_type": "code",
   "execution_count": 6,
   "metadata": {
    "scrolled": true
   },
   "outputs": [
    {
     "data": {
      "text/plain": [
       "Gender  sub_use\n",
       "F       0          554\n",
       "        1          101\n",
       "M       0          357\n",
       "        1          192\n",
       "dtype: int64"
      ]
     },
     "execution_count": 6,
     "metadata": {},
     "output_type": "execute_result"
    }
   ],
   "source": [
    "# gender x sub_use counts\n",
    "data.groupby(['Gender', 'sub_use']).size()"
   ]
  },
  {
   "cell_type": "code",
   "execution_count": 7,
   "metadata": {},
   "outputs": [
    {
     "data": {
      "text/plain": [
       "Age\n",
       "22-25    247\n",
       "26-30    526\n",
       "31-35    417\n",
       "36+       14\n",
       "dtype: int64"
      ]
     },
     "execution_count": 7,
     "metadata": {},
     "output_type": "execute_result"
    }
   ],
   "source": [
    "data.groupby('Age').size()"
   ]
  },
  {
   "cell_type": "code",
   "execution_count": 8,
   "metadata": {},
   "outputs": [
    {
     "name": "stdout",
     "output_type": "stream",
     "text": [
      "CogTotalComp_AgeAdj      19\n",
      "CogFluidComp_AgeAdj      18\n",
      "CogEarlyComp_AgeAdj      15\n",
      "SCPT_TPRT                12\n",
      "CogCrystalComp_AgeAdj    10\n",
      "                         ..\n",
      "ReadEng_AgeAdj            0\n",
      "PicVocab_AgeAdj           0\n",
      "ProcSpeed_AgeAdj          0\n",
      "ListSort_AgeAdj           0\n",
      "Subject                   0\n",
      "Length: 75, dtype: int64\n"
     ]
    }
   ],
   "source": [
    "# get NA counts in columns\n",
    "# missing values = NA\n",
    "na_counts_cols = data.isnull().sum().sort_values(ascending = False)\n",
    "print(na_counts_cols)"
   ]
  },
  {
   "cell_type": "code",
   "execution_count": 9,
   "metadata": {},
   "outputs": [
    {
     "name": "stdout",
     "output_type": "stream",
     "text": [
      "96     42\n",
      "54     42\n",
      "87     42\n",
      "921    42\n",
      "248    42\n",
      "       ..\n",
      "797     0\n",
      "798     0\n",
      "799     0\n",
      "800     0\n",
      "0       0\n",
      "Length: 1204, dtype: int64\n"
     ]
    },
    {
     "data": {
      "text/plain": [
       "35"
      ]
     },
     "execution_count": 9,
     "metadata": {},
     "output_type": "execute_result"
    }
   ],
   "source": [
    "# get NA counts in rows\n",
    "na_counts_rows = data.isnull().sum(axis = 1).sort_values(ascending = False)\n",
    "print(na_counts_rows)\n",
    "sum(na_counts_rows > 0) # number of subjects missing ANY measure"
   ]
  },
  {
   "cell_type": "code",
   "execution_count": 10,
   "metadata": {},
   "outputs": [
    {
     "data": {
      "text/plain": [
       "Gender  sub_use\n",
       "F       0          22\n",
       "        1           4\n",
       "M       0           6\n",
       "        1           3\n",
       "dtype: int64"
      ]
     },
     "execution_count": 10,
     "metadata": {},
     "output_type": "execute_result"
    }
   ],
   "source": [
    "# figure out which and how many subjects are missing a measure \n",
    "missing_data_rows = (na_counts_rows > 0) # figure out which subjects are missing a measure\n",
    "data.loc[missing_data_rows].groupby(['Gender','sub_use']).size() # number of subjects (gender x sub_use) with missing data"
   ]
  },
  {
   "cell_type": "code",
   "execution_count": 11,
   "metadata": {},
   "outputs": [
    {
     "name": "stdout",
     "output_type": "stream",
     "text": [
      "(1169, 75)\n"
     ]
    },
    {
     "name": "stderr",
     "output_type": "stream",
     "text": [
      "/Applications/anaconda3/envs/psych_pheno/lib/python3.7/site-packages/ipykernel_launcher.py:2: UserWarning: Boolean Series key will be reindexed to match DataFrame index.\n",
      "  \n"
     ]
    },
    {
     "data": {
      "text/plain": [
       "Gender  sub_use\n",
       "F       0          532\n",
       "        1           97\n",
       "M       0          351\n",
       "        1          189\n",
       "dtype: int64"
      ]
     },
     "execution_count": 11,
     "metadata": {},
     "output_type": "execute_result"
    }
   ],
   "source": [
    "# remove subjects with a missing measure from the data\n",
    "clean_data = data[-missing_data_rows]\n",
    "print(clean_data.shape)\n",
    "clean_data.groupby(['Gender', 'sub_use']).size()"
   ]
  },
  {
   "cell_type": "code",
   "execution_count": 12,
   "metadata": {},
   "outputs": [
    {
     "data": {
      "text/plain": [
       "array(['22-25', '26-30', '31-35', '36+'], dtype=object)"
      ]
     },
     "execution_count": 12,
     "metadata": {},
     "output_type": "execute_result"
    }
   ],
   "source": [
    "clean_data['Age'].unique()"
   ]
  },
  {
   "cell_type": "code",
   "execution_count": 13,
   "metadata": {},
   "outputs": [],
   "source": [
    "age_recoded = np.where(clean_data['Age']=='22-25', 1, \n",
    "                  np.where(clean_data['Age']=='26-30', 2, \n",
    "                      np.where(clean_data['Age']=='31-35', 3, 4))) "
   ]
  },
  {
   "cell_type": "code",
   "execution_count": 16,
   "metadata": {},
   "outputs": [],
   "source": [
    "clean_data = pd.concat([clean_data, pd.DataFrame({'Age_recoded': age_recoded})], axis = 1)\n",
    "clean_data = clean_data.drop('Age', axis = 1)"
   ]
  },
  {
   "cell_type": "code",
   "execution_count": 17,
   "metadata": {},
   "outputs": [],
   "source": [
    "# output the clean data\n",
    "clean_data.to_csv('hcp_drug_prediction_data_cleaned.csv', index = False)"
   ]
  },
  {
   "cell_type": "code",
   "execution_count": null,
   "metadata": {},
   "outputs": [],
   "source": []
  }
 ],
 "metadata": {
  "kernelspec": {
   "display_name": "Python 3",
   "language": "python",
   "name": "python3"
  },
  "language_info": {
   "codemirror_mode": {
    "name": "ipython",
    "version": 3
   },
   "file_extension": ".py",
   "mimetype": "text/x-python",
   "name": "python",
   "nbconvert_exporter": "python",
   "pygments_lexer": "ipython3",
   "version": "3.7.3"
  }
 },
 "nbformat": 4,
 "nbformat_minor": 2
}

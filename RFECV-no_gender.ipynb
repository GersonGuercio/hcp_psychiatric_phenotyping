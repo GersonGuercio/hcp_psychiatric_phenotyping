{
 "cells": [
  {
   "cell_type": "code",
   "execution_count": 133,
   "metadata": {},
   "outputs": [],
   "source": [
    "import pandas as pd\n",
    "import numpy as np\n",
    "import matplotlib.pyplot as plt\n",
    "from sklearn.feature_selection import RFECV, RFE\n",
    "from sklearn.svm import SVC, LinearSVC\n",
    "from sklearn.linear_model import LogisticRegression, LogisticRegressionCV\n",
    "from sklearn.model_selection import StratifiedKFold\n",
    "from sklearn.preprocessing import StandardScaler, OneHotEncoder\n",
    "from sklearn.model_selection import train_test_split, cross_validate, cross_val_predict\n"
   ]
  },
  {
   "cell_type": "code",
   "execution_count": 134,
   "metadata": {},
   "outputs": [],
   "source": [
    "data = pd.read_csv('hcp_drug_prediction_data_cleaned.csv')\n",
    "# data['Age_recoded'] = data['Age_recoded'].astype('category')\n",
    "# data['Gender_recoded'] = data['Gender_recoded'].astype('category')\n",
    "# print(data.dtypes)"
   ]
  },
  {
   "cell_type": "code",
   "execution_count": 135,
   "metadata": {},
   "outputs": [
    {
     "data": {
      "text/html": [
       "<div>\n",
       "<style scoped>\n",
       "    .dataframe tbody tr th:only-of-type {\n",
       "        vertical-align: middle;\n",
       "    }\n",
       "\n",
       "    .dataframe tbody tr th {\n",
       "        vertical-align: top;\n",
       "    }\n",
       "\n",
       "    .dataframe thead th {\n",
       "        text-align: right;\n",
       "    }\n",
       "</style>\n",
       "<table border=\"1\" class=\"dataframe\">\n",
       "  <thead>\n",
       "    <tr style=\"text-align: right;\">\n",
       "      <th></th>\n",
       "      <th>Subject</th>\n",
       "      <th>PSQI_Score</th>\n",
       "      <th>PicSeq_AgeAdj</th>\n",
       "      <th>CardSort_AgeAdj</th>\n",
       "      <th>Flanker_AgeAdj</th>\n",
       "      <th>PMAT24_A_CR</th>\n",
       "      <th>PMAT24_A_SI</th>\n",
       "      <th>PMAT24_A_RTCR</th>\n",
       "      <th>ReadEng_AgeAdj</th>\n",
       "      <th>PicVocab_AgeAdj</th>\n",
       "      <th>...</th>\n",
       "      <th>PercStress_Unadj</th>\n",
       "      <th>SelfEff_Unadj</th>\n",
       "      <th>NEOFAC_A</th>\n",
       "      <th>NEOFAC_O</th>\n",
       "      <th>NEOFAC_C</th>\n",
       "      <th>NEOFAC_N</th>\n",
       "      <th>NEOFAC_E</th>\n",
       "      <th>sub_use</th>\n",
       "      <th>Age_recoded</th>\n",
       "      <th>Gender_recoded</th>\n",
       "    </tr>\n",
       "  </thead>\n",
       "  <tbody>\n",
       "    <tr>\n",
       "      <th>0</th>\n",
       "      <td>100004</td>\n",
       "      <td>8</td>\n",
       "      <td>112.44</td>\n",
       "      <td>88.64</td>\n",
       "      <td>111.01</td>\n",
       "      <td>19.0</td>\n",
       "      <td>0.0</td>\n",
       "      <td>15590.0</td>\n",
       "      <td>96.91405</td>\n",
       "      <td>104.9375</td>\n",
       "      <td>...</td>\n",
       "      <td>55.4</td>\n",
       "      <td>39.6</td>\n",
       "      <td>27.0</td>\n",
       "      <td>15.0</td>\n",
       "      <td>28.0</td>\n",
       "      <td>24.0</td>\n",
       "      <td>25.0</td>\n",
       "      <td>0</td>\n",
       "      <td>1</td>\n",
       "      <td>0</td>\n",
       "    </tr>\n",
       "    <tr>\n",
       "      <th>1</th>\n",
       "      <td>100206</td>\n",
       "      <td>6</td>\n",
       "      <td>118.78</td>\n",
       "      <td>104.94</td>\n",
       "      <td>116.55</td>\n",
       "      <td>20.0</td>\n",
       "      <td>0.0</td>\n",
       "      <td>18574.5</td>\n",
       "      <td>103.44410</td>\n",
       "      <td>117.0361</td>\n",
       "      <td>...</td>\n",
       "      <td>57.8</td>\n",
       "      <td>44.0</td>\n",
       "      <td>29.0</td>\n",
       "      <td>23.0</td>\n",
       "      <td>26.0</td>\n",
       "      <td>21.0</td>\n",
       "      <td>32.0</td>\n",
       "      <td>0</td>\n",
       "      <td>2</td>\n",
       "      <td>0</td>\n",
       "    </tr>\n",
       "    <tr>\n",
       "      <th>2</th>\n",
       "      <td>100307</td>\n",
       "      <td>4</td>\n",
       "      <td>103.45</td>\n",
       "      <td>109.92</td>\n",
       "      <td>101.90</td>\n",
       "      <td>17.0</td>\n",
       "      <td>2.0</td>\n",
       "      <td>11839.0</td>\n",
       "      <td>98.73000</td>\n",
       "      <td>96.8100</td>\n",
       "      <td>...</td>\n",
       "      <td>57.9</td>\n",
       "      <td>37.5</td>\n",
       "      <td>37.0</td>\n",
       "      <td>24.0</td>\n",
       "      <td>35.0</td>\n",
       "      <td>15.0</td>\n",
       "      <td>37.0</td>\n",
       "      <td>0</td>\n",
       "      <td>2</td>\n",
       "      <td>1</td>\n",
       "    </tr>\n",
       "    <tr>\n",
       "      <th>3</th>\n",
       "      <td>100408</td>\n",
       "      <td>4</td>\n",
       "      <td>125.19</td>\n",
       "      <td>100.77</td>\n",
       "      <td>113.51</td>\n",
       "      <td>7.0</td>\n",
       "      <td>12.0</td>\n",
       "      <td>3042.0</td>\n",
       "      <td>125.64000</td>\n",
       "      <td>132.6300</td>\n",
       "      <td>...</td>\n",
       "      <td>46.8</td>\n",
       "      <td>56.4</td>\n",
       "      <td>33.0</td>\n",
       "      <td>29.0</td>\n",
       "      <td>34.0</td>\n",
       "      <td>15.0</td>\n",
       "      <td>33.0</td>\n",
       "      <td>1</td>\n",
       "      <td>3</td>\n",
       "      <td>0</td>\n",
       "    </tr>\n",
       "    <tr>\n",
       "      <th>4</th>\n",
       "      <td>100610</td>\n",
       "      <td>4</td>\n",
       "      <td>101.69</td>\n",
       "      <td>115.18</td>\n",
       "      <td>114.18</td>\n",
       "      <td>23.0</td>\n",
       "      <td>0.0</td>\n",
       "      <td>12280.0</td>\n",
       "      <td>132.41240</td>\n",
       "      <td>146.5971</td>\n",
       "      <td>...</td>\n",
       "      <td>37.8</td>\n",
       "      <td>53.2</td>\n",
       "      <td>31.0</td>\n",
       "      <td>33.0</td>\n",
       "      <td>36.0</td>\n",
       "      <td>7.0</td>\n",
       "      <td>15.0</td>\n",
       "      <td>0</td>\n",
       "      <td>2</td>\n",
       "      <td>0</td>\n",
       "    </tr>\n",
       "  </tbody>\n",
       "</table>\n",
       "<p>5 rows × 75 columns</p>\n",
       "</div>"
      ],
      "text/plain": [
       "   Subject  PSQI_Score  PicSeq_AgeAdj  CardSort_AgeAdj  Flanker_AgeAdj  \\\n",
       "0   100004           8         112.44            88.64          111.01   \n",
       "1   100206           6         118.78           104.94          116.55   \n",
       "2   100307           4         103.45           109.92          101.90   \n",
       "3   100408           4         125.19           100.77          113.51   \n",
       "4   100610           4         101.69           115.18          114.18   \n",
       "\n",
       "   PMAT24_A_CR  PMAT24_A_SI  PMAT24_A_RTCR  ReadEng_AgeAdj  PicVocab_AgeAdj  \\\n",
       "0         19.0          0.0        15590.0        96.91405         104.9375   \n",
       "1         20.0          0.0        18574.5       103.44410         117.0361   \n",
       "2         17.0          2.0        11839.0        98.73000          96.8100   \n",
       "3          7.0         12.0         3042.0       125.64000         132.6300   \n",
       "4         23.0          0.0        12280.0       132.41240         146.5971   \n",
       "\n",
       "   ...  PercStress_Unadj  SelfEff_Unadj  NEOFAC_A  NEOFAC_O  NEOFAC_C  \\\n",
       "0  ...              55.4           39.6      27.0      15.0      28.0   \n",
       "1  ...              57.8           44.0      29.0      23.0      26.0   \n",
       "2  ...              57.9           37.5      37.0      24.0      35.0   \n",
       "3  ...              46.8           56.4      33.0      29.0      34.0   \n",
       "4  ...              37.8           53.2      31.0      33.0      36.0   \n",
       "\n",
       "   NEOFAC_N  NEOFAC_E  sub_use  Age_recoded  Gender_recoded  \n",
       "0      24.0      25.0        0            1               0  \n",
       "1      21.0      32.0        0            2               0  \n",
       "2      15.0      37.0        0            2               1  \n",
       "3      15.0      33.0        1            3               0  \n",
       "4       7.0      15.0        0            2               0  \n",
       "\n",
       "[5 rows x 75 columns]"
      ]
     },
     "execution_count": 135,
     "metadata": {},
     "output_type": "execute_result"
    }
   ],
   "source": [
    "data.head()"
   ]
  },
  {
   "cell_type": "code",
   "execution_count": 136,
   "metadata": {},
   "outputs": [],
   "source": [
    "X = data.drop(['Subject', 'sub_use', 'Gender_recoded'], axis = 1)\n",
    "y = data['sub_use']"
   ]
  },
  {
   "cell_type": "code",
   "execution_count": 137,
   "metadata": {},
   "outputs": [],
   "source": [
    "# from sklearn.preprocessing import StandardScaler, OneHotEncoder\n",
    "\n",
    "# dataset = pd.read_csv(\"http://www.ats.ucla.edu/stat/data/binary.csv\")\n",
    "# print(dataset.head(5))\n",
    "\n",
    "# # Define which columns should be encoded vs scaled\n",
    "# columns_to_encode = ['rank']\n",
    "# columns_to_scale  = ['gre', 'gpa']\n",
    "\n",
    "# # Instantiate encoder/scaler\n",
    "# scaler = StandardScaler()\n",
    "# ohe    = OneHotEncoder(sparse=False)\n",
    "\n",
    "# # Scale and Encode Separate Columns\n",
    "# scaled_columns  = scaler.fit_transform(dataset[columns_to_scale]) \n",
    "# encoded_columns =    ohe.fit_transform(dataset[columns_to_encode])\n",
    "\n",
    "# # Concatenate (Column-Bind) Processed Columns Back Together\n",
    "# processed_data = np.concatenate([scaled_columns, encoded_columns], axis=1)"
   ]
  },
  {
   "cell_type": "code",
   "execution_count": 138,
   "metadata": {},
   "outputs": [
    {
     "name": "stdout",
     "output_type": "stream",
     "text": [
      "Age_recoded\n",
      "Index(['PSQI_Score', 'PicSeq_AgeAdj', 'CardSort_AgeAdj', 'Flanker_AgeAdj',\n",
      "       'PMAT24_A_CR', 'PMAT24_A_SI', 'PMAT24_A_RTCR', 'ReadEng_AgeAdj',\n",
      "       'PicVocab_AgeAdj', 'ProcSpeed_AgeAdj', 'DDisc_SV_1mo_200',\n",
      "       'DDisc_SV_6mo_200', 'DDisc_SV_1yr_200', 'DDisc_SV_3yr_200',\n",
      "       'DDisc_SV_5yr_200', 'DDisc_SV_10yr_200', 'DDisc_SV_1mo_40K',\n",
      "       'DDisc_SV_6mo_40K', 'DDisc_SV_1yr_40K', 'DDisc_SV_3yr_40K',\n",
      "       'DDisc_SV_5yr_40K', 'DDisc_SV_10yr_40K', 'DDisc_AUC_200',\n",
      "       'DDisc_AUC_40K', 'VSPLOT_TC', 'VSPLOT_CRTE', 'VSPLOT_OFF', 'SCPT_TP',\n",
      "       'SCPT_TN', 'SCPT_FP', 'SCPT_FN', 'SCPT_TPRT', 'SCPT_SEN', 'SCPT_SPEC',\n",
      "       'SCPT_LRNR', 'IWRD_TOT', 'IWRD_RTC', 'ListSort_AgeAdj',\n",
      "       'CogFluidComp_AgeAdj', 'CogEarlyComp_AgeAdj', 'CogTotalComp_AgeAdj',\n",
      "       'CogCrystalComp_AgeAdj', 'ER40_CR', 'ER40_CRT', 'ER40ANG', 'ER40FEAR',\n",
      "       'ER40HAP', 'ER40NOE', 'ER40SAD', 'AngAffect_Unadj', 'AngHostil_Unadj',\n",
      "       'AngAggr_Unadj', 'FearAffect_Unadj', 'FearSomat_Unadj', 'Sadness_Unadj',\n",
      "       'LifeSatisf_Unadj', 'MeanPurp_Unadj', 'PosAffect_Unadj',\n",
      "       'Friendship_Unadj', 'Loneliness_Unadj', 'PercHostil_Unadj',\n",
      "       'PercReject_Unadj', 'EmotSupp_Unadj', 'InstruSupp_Unadj',\n",
      "       'PercStress_Unadj', 'SelfEff_Unadj', 'NEOFAC_A', 'NEOFAC_O', 'NEOFAC_C',\n",
      "       'NEOFAC_N', 'NEOFAC_E', 'Age_recoded'],\n",
      "      dtype='object')\n",
      "['ER40FEAR', 'Flanker_AgeAdj', 'SCPT_FP', 'NEOFAC_N', 'PMAT24_A_SI', 'ListSort_AgeAdj', 'ER40_CR', 'AngHostil_Unadj', 'EmotSupp_Unadj', 'SCPT_TPRT', 'PMAT24_A_CR', 'SelfEff_Unadj', 'DDisc_SV_3yr_200', 'PosAffect_Unadj', 'PercStress_Unadj', 'SCPT_TN', 'DDisc_SV_5yr_40K', 'DDisc_SV_1mo_40K', 'LifeSatisf_Unadj', 'ER40SAD', 'VSPLOT_OFF', 'AngAffect_Unadj', 'DDisc_AUC_200', 'ReadEng_AgeAdj', 'CogEarlyComp_AgeAdj', 'DDisc_SV_1mo_200', 'CogTotalComp_AgeAdj', 'DDisc_SV_10yr_40K', 'DDisc_SV_1yr_40K', 'DDisc_SV_6mo_200', 'PSQI_Score', 'SCPT_TP', 'CardSort_AgeAdj', 'Age_recoded', 'NEOFAC_C', 'IWRD_TOT', 'SCPT_LRNR', 'DDisc_SV_3yr_40K', 'CogFluidComp_AgeAdj', 'ER40NOE', 'VSPLOT_TC', 'PercHostil_Unadj', 'NEOFAC_A', 'CogCrystalComp_AgeAdj', 'ER40HAP', 'AngAggr_Unadj', 'FearSomat_Unadj', 'MeanPurp_Unadj', 'SCPT_SPEC', 'Friendship_Unadj', 'NEOFAC_E', 'SCPT_FN', 'VSPLOT_CRTE', 'NEOFAC_O', 'InstruSupp_Unadj', 'ER40ANG', 'PicVocab_AgeAdj', 'DDisc_AUC_40K', 'DDisc_SV_5yr_200', 'ProcSpeed_AgeAdj', 'PMAT24_A_RTCR', 'SCPT_SEN', 'DDisc_SV_1yr_200', 'FearAffect_Unadj', 'ER40_CRT', 'PercReject_Unadj', 'PicSeq_AgeAdj', 'DDisc_SV_6mo_40K', 'Loneliness_Unadj', 'DDisc_SV_10yr_200', 'Sadness_Unadj', 'IWRD_RTC']\n"
     ]
    }
   ],
   "source": [
    "cols_to_encode = 'Age_recoded'\n",
    "# cols_to_scale = X.columns[X.columns != cols_to_encode]\n",
    "cols_to_scale = list(set(X.columns) - set(cols_to_encode)) # this method does NOT maintain the ordering of the columns\n",
    "print(cols_to_encode)\n",
    "print(X.columns)\n",
    "print(cols_to_scale)"
   ]
  },
  {
   "cell_type": "code",
   "execution_count": 139,
   "metadata": {},
   "outputs": [
    {
     "data": {
      "text/html": [
       "<div>\n",
       "<style scoped>\n",
       "    .dataframe tbody tr th:only-of-type {\n",
       "        vertical-align: middle;\n",
       "    }\n",
       "\n",
       "    .dataframe tbody tr th {\n",
       "        vertical-align: top;\n",
       "    }\n",
       "\n",
       "    .dataframe thead th {\n",
       "        text-align: right;\n",
       "    }\n",
       "</style>\n",
       "<table border=\"1\" class=\"dataframe\">\n",
       "  <thead>\n",
       "    <tr style=\"text-align: right;\">\n",
       "      <th></th>\n",
       "      <th>ER40FEAR</th>\n",
       "      <th>Flanker_AgeAdj</th>\n",
       "      <th>SCPT_FP</th>\n",
       "      <th>NEOFAC_N</th>\n",
       "      <th>PMAT24_A_SI</th>\n",
       "      <th>ListSort_AgeAdj</th>\n",
       "      <th>ER40_CR</th>\n",
       "      <th>AngHostil_Unadj</th>\n",
       "      <th>EmotSupp_Unadj</th>\n",
       "      <th>SCPT_TPRT</th>\n",
       "      <th>...</th>\n",
       "      <th>DDisc_SV_1yr_200</th>\n",
       "      <th>FearAffect_Unadj</th>\n",
       "      <th>ER40_CRT</th>\n",
       "      <th>PercReject_Unadj</th>\n",
       "      <th>PicSeq_AgeAdj</th>\n",
       "      <th>DDisc_SV_6mo_40K</th>\n",
       "      <th>Loneliness_Unadj</th>\n",
       "      <th>DDisc_SV_10yr_200</th>\n",
       "      <th>Sadness_Unadj</th>\n",
       "      <th>IWRD_RTC</th>\n",
       "    </tr>\n",
       "  </thead>\n",
       "  <tbody>\n",
       "    <tr>\n",
       "      <th>1</th>\n",
       "      <td>7.0</td>\n",
       "      <td>116.55</td>\n",
       "      <td>5.0</td>\n",
       "      <td>21.0</td>\n",
       "      <td>0.0</td>\n",
       "      <td>103.57</td>\n",
       "      <td>38.0</td>\n",
       "      <td>61.7</td>\n",
       "      <td>43.9</td>\n",
       "      <td>520.0</td>\n",
       "      <td>...</td>\n",
       "      <td>9.38</td>\n",
       "      <td>63.3</td>\n",
       "      <td>1545.0</td>\n",
       "      <td>64.8</td>\n",
       "      <td>118.78</td>\n",
       "      <td>625.0</td>\n",
       "      <td>63.8</td>\n",
       "      <td>9.38</td>\n",
       "      <td>55.0</td>\n",
       "      <td>1475.00</td>\n",
       "    </tr>\n",
       "    <tr>\n",
       "      <th>2</th>\n",
       "      <td>8.0</td>\n",
       "      <td>101.90</td>\n",
       "      <td>5.0</td>\n",
       "      <td>15.0</td>\n",
       "      <td>2.0</td>\n",
       "      <td>98.44</td>\n",
       "      <td>39.0</td>\n",
       "      <td>60.8</td>\n",
       "      <td>45.0</td>\n",
       "      <td>412.0</td>\n",
       "      <td>...</td>\n",
       "      <td>103.13</td>\n",
       "      <td>53.9</td>\n",
       "      <td>1471.0</td>\n",
       "      <td>54.1</td>\n",
       "      <td>103.45</td>\n",
       "      <td>29375.0</td>\n",
       "      <td>53.7</td>\n",
       "      <td>9.38</td>\n",
       "      <td>53.4</td>\n",
       "      <td>1442.00</td>\n",
       "    </tr>\n",
       "    <tr>\n",
       "      <th>3</th>\n",
       "      <td>8.0</td>\n",
       "      <td>113.51</td>\n",
       "      <td>10.0</td>\n",
       "      <td>15.0</td>\n",
       "      <td>12.0</td>\n",
       "      <td>102.63</td>\n",
       "      <td>36.0</td>\n",
       "      <td>42.8</td>\n",
       "      <td>50.1</td>\n",
       "      <td>468.0</td>\n",
       "      <td>...</td>\n",
       "      <td>46.88</td>\n",
       "      <td>55.1</td>\n",
       "      <td>1537.0</td>\n",
       "      <td>50.1</td>\n",
       "      <td>125.19</td>\n",
       "      <td>29375.0</td>\n",
       "      <td>51.9</td>\n",
       "      <td>9.38</td>\n",
       "      <td>49.9</td>\n",
       "      <td>1450.75</td>\n",
       "    </tr>\n",
       "    <tr>\n",
       "      <th>4</th>\n",
       "      <td>8.0</td>\n",
       "      <td>114.18</td>\n",
       "      <td>3.0</td>\n",
       "      <td>7.0</td>\n",
       "      <td>0.0</td>\n",
       "      <td>108.26</td>\n",
       "      <td>39.0</td>\n",
       "      <td>49.1</td>\n",
       "      <td>56.8</td>\n",
       "      <td>465.0</td>\n",
       "      <td>...</td>\n",
       "      <td>184.38</td>\n",
       "      <td>49.6</td>\n",
       "      <td>1590.0</td>\n",
       "      <td>54.1</td>\n",
       "      <td>101.69</td>\n",
       "      <td>39375.0</td>\n",
       "      <td>53.5</td>\n",
       "      <td>146.88</td>\n",
       "      <td>44.2</td>\n",
       "      <td>1240.00</td>\n",
       "    </tr>\n",
       "    <tr>\n",
       "      <th>5</th>\n",
       "      <td>6.0</td>\n",
       "      <td>92.33</td>\n",
       "      <td>3.0</td>\n",
       "      <td>13.0</td>\n",
       "      <td>8.0</td>\n",
       "      <td>84.01</td>\n",
       "      <td>30.0</td>\n",
       "      <td>49.0</td>\n",
       "      <td>62.5</td>\n",
       "      <td>440.0</td>\n",
       "      <td>...</td>\n",
       "      <td>115.63</td>\n",
       "      <td>49.3</td>\n",
       "      <td>2169.5</td>\n",
       "      <td>46.5</td>\n",
       "      <td>70.00</td>\n",
       "      <td>36875.0</td>\n",
       "      <td>50.3</td>\n",
       "      <td>40.63</td>\n",
       "      <td>48.7</td>\n",
       "      <td>1579.50</td>\n",
       "    </tr>\n",
       "    <tr>\n",
       "      <th>6</th>\n",
       "      <td>7.0</td>\n",
       "      <td>96.19</td>\n",
       "      <td>7.0</td>\n",
       "      <td>12.0</td>\n",
       "      <td>5.0</td>\n",
       "      <td>123.73</td>\n",
       "      <td>35.0</td>\n",
       "      <td>52.3</td>\n",
       "      <td>62.5</td>\n",
       "      <td>510.0</td>\n",
       "      <td>...</td>\n",
       "      <td>9.38</td>\n",
       "      <td>48.4</td>\n",
       "      <td>1880.0</td>\n",
       "      <td>43.7</td>\n",
       "      <td>97.37</td>\n",
       "      <td>39375.0</td>\n",
       "      <td>52.0</td>\n",
       "      <td>3.13</td>\n",
       "      <td>48.1</td>\n",
       "      <td>1390.00</td>\n",
       "    </tr>\n",
       "    <tr>\n",
       "      <th>7</th>\n",
       "      <td>8.0</td>\n",
       "      <td>84.46</td>\n",
       "      <td>5.0</td>\n",
       "      <td>15.0</td>\n",
       "      <td>11.0</td>\n",
       "      <td>102.63</td>\n",
       "      <td>38.0</td>\n",
       "      <td>43.3</td>\n",
       "      <td>33.2</td>\n",
       "      <td>435.0</td>\n",
       "      <td>...</td>\n",
       "      <td>190.63</td>\n",
       "      <td>65.4</td>\n",
       "      <td>2070.0</td>\n",
       "      <td>55.3</td>\n",
       "      <td>95.64</td>\n",
       "      <td>39375.0</td>\n",
       "      <td>54.7</td>\n",
       "      <td>96.88</td>\n",
       "      <td>51.7</td>\n",
       "      <td>1770.00</td>\n",
       "    </tr>\n",
       "    <tr>\n",
       "      <th>8</th>\n",
       "      <td>5.0</td>\n",
       "      <td>103.37</td>\n",
       "      <td>13.0</td>\n",
       "      <td>2.0</td>\n",
       "      <td>4.0</td>\n",
       "      <td>108.26</td>\n",
       "      <td>35.0</td>\n",
       "      <td>36.6</td>\n",
       "      <td>43.7</td>\n",
       "      <td>471.0</td>\n",
       "      <td>...</td>\n",
       "      <td>196.88</td>\n",
       "      <td>43.3</td>\n",
       "      <td>2002.0</td>\n",
       "      <td>35.9</td>\n",
       "      <td>93.36</td>\n",
       "      <td>34375.0</td>\n",
       "      <td>46.4</td>\n",
       "      <td>196.88</td>\n",
       "      <td>38.5</td>\n",
       "      <td>1248.00</td>\n",
       "    </tr>\n",
       "    <tr>\n",
       "      <th>9</th>\n",
       "      <td>8.0</td>\n",
       "      <td>100.58</td>\n",
       "      <td>19.0</td>\n",
       "      <td>12.0</td>\n",
       "      <td>0.0</td>\n",
       "      <td>107.32</td>\n",
       "      <td>35.0</td>\n",
       "      <td>55.9</td>\n",
       "      <td>62.5</td>\n",
       "      <td>410.0</td>\n",
       "      <td>...</td>\n",
       "      <td>3.13</td>\n",
       "      <td>51.2</td>\n",
       "      <td>1950.0</td>\n",
       "      <td>35.9</td>\n",
       "      <td>111.31</td>\n",
       "      <td>31875.0</td>\n",
       "      <td>53.7</td>\n",
       "      <td>3.13</td>\n",
       "      <td>42.7</td>\n",
       "      <td>1470.00</td>\n",
       "    </tr>\n",
       "    <tr>\n",
       "      <th>10</th>\n",
       "      <td>8.0</td>\n",
       "      <td>108.32</td>\n",
       "      <td>7.0</td>\n",
       "      <td>21.0</td>\n",
       "      <td>0.0</td>\n",
       "      <td>102.63</td>\n",
       "      <td>34.0</td>\n",
       "      <td>52.9</td>\n",
       "      <td>56.8</td>\n",
       "      <td>400.0</td>\n",
       "      <td>...</td>\n",
       "      <td>71.88</td>\n",
       "      <td>51.2</td>\n",
       "      <td>1760.0</td>\n",
       "      <td>50.6</td>\n",
       "      <td>101.54</td>\n",
       "      <td>39375.0</td>\n",
       "      <td>44.9</td>\n",
       "      <td>9.38</td>\n",
       "      <td>45.6</td>\n",
       "      <td>1700.00</td>\n",
       "    </tr>\n",
       "  </tbody>\n",
       "</table>\n",
       "<p>10 rows × 72 columns</p>\n",
       "</div>"
      ],
      "text/plain": [
       "    ER40FEAR  Flanker_AgeAdj  SCPT_FP  NEOFAC_N  PMAT24_A_SI  ListSort_AgeAdj  \\\n",
       "1        7.0          116.55      5.0      21.0          0.0           103.57   \n",
       "2        8.0          101.90      5.0      15.0          2.0            98.44   \n",
       "3        8.0          113.51     10.0      15.0         12.0           102.63   \n",
       "4        8.0          114.18      3.0       7.0          0.0           108.26   \n",
       "5        6.0           92.33      3.0      13.0          8.0            84.01   \n",
       "6        7.0           96.19      7.0      12.0          5.0           123.73   \n",
       "7        8.0           84.46      5.0      15.0         11.0           102.63   \n",
       "8        5.0          103.37     13.0       2.0          4.0           108.26   \n",
       "9        8.0          100.58     19.0      12.0          0.0           107.32   \n",
       "10       8.0          108.32      7.0      21.0          0.0           102.63   \n",
       "\n",
       "    ER40_CR  AngHostil_Unadj  EmotSupp_Unadj  SCPT_TPRT  ...  \\\n",
       "1      38.0             61.7            43.9      520.0  ...   \n",
       "2      39.0             60.8            45.0      412.0  ...   \n",
       "3      36.0             42.8            50.1      468.0  ...   \n",
       "4      39.0             49.1            56.8      465.0  ...   \n",
       "5      30.0             49.0            62.5      440.0  ...   \n",
       "6      35.0             52.3            62.5      510.0  ...   \n",
       "7      38.0             43.3            33.2      435.0  ...   \n",
       "8      35.0             36.6            43.7      471.0  ...   \n",
       "9      35.0             55.9            62.5      410.0  ...   \n",
       "10     34.0             52.9            56.8      400.0  ...   \n",
       "\n",
       "    DDisc_SV_1yr_200  FearAffect_Unadj  ER40_CRT  PercReject_Unadj  \\\n",
       "1               9.38              63.3    1545.0              64.8   \n",
       "2             103.13              53.9    1471.0              54.1   \n",
       "3              46.88              55.1    1537.0              50.1   \n",
       "4             184.38              49.6    1590.0              54.1   \n",
       "5             115.63              49.3    2169.5              46.5   \n",
       "6               9.38              48.4    1880.0              43.7   \n",
       "7             190.63              65.4    2070.0              55.3   \n",
       "8             196.88              43.3    2002.0              35.9   \n",
       "9               3.13              51.2    1950.0              35.9   \n",
       "10             71.88              51.2    1760.0              50.6   \n",
       "\n",
       "    PicSeq_AgeAdj  DDisc_SV_6mo_40K  Loneliness_Unadj  DDisc_SV_10yr_200  \\\n",
       "1          118.78             625.0              63.8               9.38   \n",
       "2          103.45           29375.0              53.7               9.38   \n",
       "3          125.19           29375.0              51.9               9.38   \n",
       "4          101.69           39375.0              53.5             146.88   \n",
       "5           70.00           36875.0              50.3              40.63   \n",
       "6           97.37           39375.0              52.0               3.13   \n",
       "7           95.64           39375.0              54.7              96.88   \n",
       "8           93.36           34375.0              46.4             196.88   \n",
       "9          111.31           31875.0              53.7               3.13   \n",
       "10         101.54           39375.0              44.9               9.38   \n",
       "\n",
       "    Sadness_Unadj  IWRD_RTC  \n",
       "1            55.0   1475.00  \n",
       "2            53.4   1442.00  \n",
       "3            49.9   1450.75  \n",
       "4            44.2   1240.00  \n",
       "5            48.7   1579.50  \n",
       "6            48.1   1390.00  \n",
       "7            51.7   1770.00  \n",
       "8            38.5   1248.00  \n",
       "9            42.7   1470.00  \n",
       "10           45.6   1700.00  \n",
       "\n",
       "[10 rows x 72 columns]"
      ]
     },
     "execution_count": 139,
     "metadata": {},
     "output_type": "execute_result"
    }
   ],
   "source": [
    "X.loc[1:10,cols_to_scale]"
   ]
  },
  {
   "cell_type": "code",
   "execution_count": 58,
   "metadata": {},
   "outputs": [],
   "source": [
    "scaler = StandardScaler()\n",
    "# ohe = OneHotEncoder(sparse = False)"
   ]
  },
  {
   "cell_type": "code",
   "execution_count": 59,
   "metadata": {},
   "outputs": [
    {
     "name": "stdout",
     "output_type": "stream",
     "text": [
      "[-0.36149022 -0.00321271 -0.12149893 ... -0.11657399 -0.10699566\n",
      "  0.06472408]\n",
      "(1169, 72)\n",
      "[[-0.73197661  0.95295324 -1.03825435 ... -0.22156172  0.90487396\n",
      "  -0.89987073]\n",
      " [ 0.09158514  1.50160919 -0.11911816 ... -0.53819454  1.06716265\n",
      "  -0.28498604]\n",
      " [ 0.91514689  0.05074101 -0.11911816 ... -0.53819454  0.86742273\n",
      "  -0.39466818]\n",
      " ...\n",
      " [-3.20266187  1.35899826 -0.8084703  ... -0.69651095 -0.39343553\n",
      "   0.83676306]\n",
      " [-0.73197661 -1.33773488  3.09785849 ...  1.67823522 -0.36846804\n",
      "  -0.62400355]\n",
      " [ 0.91514689 -1.03864806  0.57023398 ...  0.57002034 -0.1063094\n",
      "   0.68719652]]\n"
     ]
    }
   ],
   "source": [
    "scaled_cols = scaler.fit_transform(X[cols_to_scale]) # scale the continuous variables\n",
    "print(scaled_cols.mean(axis = 1))\n",
    "print(scaled_cols.shape)\n",
    "print(scaled_cols)\n",
    "# encoded_cols = ohe.fit_transform(X[cols_to_encode]) # dummy code the categorical variables"
   ]
  },
  {
   "cell_type": "code",
   "execution_count": 60,
   "metadata": {},
   "outputs": [],
   "source": [
    "# print(encoded_cols.shape)"
   ]
  },
  {
   "cell_type": "code",
   "execution_count": 61,
   "metadata": {},
   "outputs": [
    {
     "name": "stdout",
     "output_type": "stream",
     "text": [
      "(1169,)\n",
      "<class 'numpy.ndarray'>\n",
      "<class 'pandas.core.series.Series'>\n",
      "      ER40FEAR  Flanker_AgeAdj   SCPT_FP  NEOFAC_N  PMAT24_A_SI  \\\n",
      "0    -0.731977        0.952953 -1.038254  0.982099    -0.803643   \n",
      "1     0.091585        1.501609 -0.119118  0.574402    -0.803643   \n",
      "2     0.915147        0.050741 -0.119118 -0.240991    -0.307100   \n",
      "3     0.915147        1.200542  1.029802 -0.240991     2.175613   \n",
      "4     0.915147        1.266895 -0.578686 -1.328182    -0.803643   \n",
      "...        ...             ...       ...       ...          ...   \n",
      "1164  0.915147        1.427333  1.719154 -0.105092     0.437714   \n",
      "1165  0.091585        0.502342 -1.038254 -0.920485    -0.803643   \n",
      "1166 -3.202662        1.358998 -0.808470  0.710301    -0.803643   \n",
      "1167 -0.731977       -1.337735  3.097858  0.166706    -0.803643   \n",
      "1168  0.915147       -1.038648  0.570234  0.438504    -0.803643   \n",
      "\n",
      "      ListSort_AgeAdj   ER40_CR  AngHostil_Unadj  EmotSupp_Unadj  SCPT_TPRT  \\\n",
      "0           -1.344401  0.185220         1.325825       -2.273491   1.097070   \n",
      "1            0.030189  0.959898         1.268231       -0.762228   1.097070   \n",
      "2           -0.354936  1.347238         1.164563       -0.648366  -1.310936   \n",
      "3           -0.040380  0.185220        -0.908806       -0.120459  -0.062340   \n",
      "4            0.382283  1.347238        -0.183127        0.573066  -0.129229   \n",
      "...               ...       ...              ...             ...        ...   \n",
      "1164        -1.113926  0.185220         0.093322        0.055510   0.249809   \n",
      "1165         0.801942  0.572559        -0.206164       -0.669068   0.428180   \n",
      "1166        -0.040380 -3.300831         0.554071        0.055510   0.205216   \n",
      "1167        -0.354936 -0.589458         1.993910        0.573066  -1.801456   \n",
      "1168        -0.354936 -0.589458        -0.206164        1.163080   0.428180   \n",
      "\n",
      "      ...  FearAffect_Unadj  ER40_CRT  PercReject_Unadj  PicSeq_AgeAdj  \\\n",
      "0     ...          0.116602  0.154568          2.445014       0.457481   \n",
      "1     ...          1.615984 -0.869300          1.813627       0.834918   \n",
      "2     ...          0.451175 -1.095468          0.607227      -0.077716   \n",
      "3     ...          0.599874 -0.893751          0.156236       1.216521   \n",
      "4     ...         -0.081664 -0.731766          0.607227      -0.182493   \n",
      "...   ...               ...       ...               ...            ...   \n",
      "1164  ...         -0.441020  0.654277          0.212610      -1.636278   \n",
      "1165  ...          0.426391  0.001752          0.607227      -0.219404   \n",
      "1166  ...          0.711398  1.713293         -0.903592      -1.837498   \n",
      "1167  ...          0.736181 -0.334444          0.607227      -0.216427   \n",
      "1168  ...          0.116602 -0.640076         -1.444781      -1.070124   \n",
      "\n",
      "      DDisc_SV_6mo_40K  Loneliness_Unadj  DDisc_SV_10yr_200  Sadness_Unadj  \\\n",
      "0            -0.733696          2.484819          -0.221562       0.904874   \n",
      "1            -3.068051          1.440618          -0.538195       1.067163   \n",
      "2            -0.242253          0.294266          -0.538195       0.867423   \n",
      "3            -0.242253          0.089965          -0.538195       0.430492   \n",
      "4             0.740633          0.271565           2.944767      -0.281082   \n",
      "...                ...               ...                ...            ...   \n",
      "1164         -3.068051         -0.171085          -0.696511      -0.480822   \n",
      "1165          0.003468          0.294266           2.944767       0.542845   \n",
      "1166          0.249190          0.294266          -0.696511      -0.393436   \n",
      "1167         -1.102279          0.702866           1.678235      -0.368468   \n",
      "1168          0.740633          0.101315           0.570020      -0.106309   \n",
      "\n",
      "      IWRD_RTC  Age_recoded  \n",
      "0    -0.899871            1  \n",
      "1    -0.284986            2  \n",
      "2    -0.394668            2  \n",
      "3    -0.365586            3  \n",
      "4    -1.066056            2  \n",
      "...        ...          ...  \n",
      "1164  1.501503            3  \n",
      "1165  0.662269            2  \n",
      "1166  0.836763            2  \n",
      "1167 -0.624004            1  \n",
      "1168  0.687197            2  \n",
      "\n",
      "[1169 rows x 73 columns]\n"
     ]
    }
   ],
   "source": [
    "print(y.shape)\n",
    "print(type(scaled_cols))\n",
    "print(type(data['Age_recoded']))\n",
    "# print(type(encoded_cols))\n",
    "# X_scaled_encoded = np.concatenate((scaled_cols, encoded_cols), axis = 1)\n",
    "X_scaled = pd.concat([pd.DataFrame(scaled_cols, columns = pd.Series(cols_to_scale)), data['Age_recoded']], axis = 1)\n",
    "print(X_scaled)\n",
    "X_scaled_array = np.array(X_scaled)"
   ]
  },
  {
   "cell_type": "code",
   "execution_count": 62,
   "metadata": {},
   "outputs": [],
   "source": [
    "# print(__doc__)\n",
    "\n",
    "# import matplotlib.pyplot as plt\n",
    "# from sklearn.svm import SVC\n",
    "# from sklearn.model_selection import StratifiedKFold\n",
    "# from sklearn.feature_selection import RFECV\n",
    "# from sklearn.datasets import make_classification\n",
    "\n",
    "# # Build a classification task using 3 informative features\n",
    "# X, y = make_classification(n_samples=1000, n_features=25, n_informative=3,\n",
    "#                            n_redundant=2, n_repeated=0, n_classes=8,\n",
    "#                            n_clusters_per_class=1, random_state=0)\n",
    "\n",
    "# # Create the RFE object and compute a cross-validated score.\n",
    "# svc = SVC(kernel=\"linear\")\n",
    "# # The \"accuracy\" scoring is proportional to the number of correct\n",
    "# # classifications\n",
    "# rfecv = RFECV(estimator=svc, step=1, cv=StratifiedKFold(2),\n",
    "#               scoring='accuracy')\n",
    "# rfecv.fit(X, y)\n",
    "\n",
    "# print(\"Optimal number of features : %d\" % rfecv.n_features_)\n",
    "\n",
    "# # Plot number of features VS. cross-validation scores\n",
    "# plt.figure()\n",
    "# plt.xlabel(\"Number of features selected\")\n",
    "# plt.ylabel(\"Cross validation score (nb of correct classifications)\")\n",
    "# plt.plot(range(1, len(rfecv.grid_scores_) + 1), rfecv.grid_scores_)\n",
    "# plt.show()"
   ]
  },
  {
   "cell_type": "code",
   "execution_count": 63,
   "metadata": {},
   "outputs": [
    {
     "data": {
      "text/plain": [
       "RFECV(cv=StratifiedKFold(n_splits=5, random_state=None, shuffle=False),\n",
       "      estimator=LogisticRegression(C=1.0, class_weight='balanced', dual=False,\n",
       "                                   fit_intercept=True, intercept_scaling=1,\n",
       "                                   l1_ratio=None, max_iter=100,\n",
       "                                   multi_class='warn', n_jobs=None,\n",
       "                                   penalty='l1', random_state=None,\n",
       "                                   solver='liblinear', tol=0.0001, verbose=0,\n",
       "                                   warm_start=False),\n",
       "      min_features_to_select=1, n_jobs=None, scoring='accuracy', step=1,\n",
       "      verbose=0)"
      ]
     },
     "execution_count": 63,
     "metadata": {},
     "output_type": "execute_result"
    }
   ],
   "source": [
    "log_reg = LogisticRegression(penalty = 'l1', solver = 'liblinear', class_weight='balanced')\n",
    "# rfecv = RFECV(log_reg, step = 1, cv = StratifiedKFold(5), scoring = 'accuracy')\n",
    "rfecv = RFECV(log_reg, step = 1, cv = StratifiedKFold(5), scoring = 'accuracy')\n",
    "rfecv.fit(X_scaled_array,y)"
   ]
  },
  {
   "cell_type": "code",
   "execution_count": 132,
   "metadata": {},
   "outputs": [
    {
     "data": {
      "text/plain": [
       "(1169,)"
      ]
     },
     "execution_count": 132,
     "metadata": {},
     "output_type": "execute_result"
    }
   ],
   "source": [
    "rfecv.decision_function(X_scaled_array).shape"
   ]
  },
  {
   "cell_type": "code",
   "execution_count": 64,
   "metadata": {},
   "outputs": [
    {
     "name": "stdout",
     "output_type": "stream",
     "text": [
      "Optimal number of features : 13\n"
     ]
    },
    {
     "data": {
      "image/png": "[encoded data removed]",
      "text/plain": [
       "<Figure size 432x288 with 1 Axes>"
      ]
     },
     "metadata": {
      "needs_background": "light"
     },
     "output_type": "display_data"
    }
   ],
   "source": [
    "print(\"Optimal number of features : %d\" % rfecv.n_features_)\n",
    "\n",
    "# Plot number of features VS. cross-validation scores\n",
    "plt.figure()\n",
    "plt.xlabel(\"Number of features selected\")\n",
    "plt.ylabel(\"Cross validation score (nb of correct classifications)\")\n",
    "plt.plot(range(1, len(rfecv.grid_scores_) + 1), rfecv.grid_scores_)\n",
    "plt.show()"
   ]
  },
  {
   "cell_type": "code",
   "execution_count": 65,
   "metadata": {},
   "outputs": [
    {
     "data": {
      "text/plain": [
       "0.5286568061145724"
      ]
     },
     "execution_count": 65,
     "metadata": {},
     "output_type": "execute_result"
    }
   ],
   "source": [
    "rfecv.grid_scores_[0]"
   ]
  },
  {
   "cell_type": "code",
   "execution_count": 66,
   "metadata": {},
   "outputs": [
    {
     "name": "stdout",
     "output_type": "stream",
     "text": [
      "13\n",
      "[False False False False False False False False False False False  True\n",
      " False  True False False False False False False  True  True False False\n",
      "  True False False  True  True False False False  True False  True False\n",
      " False False False False False False False False False  True  True False\n",
      " False False False False False  True False False False False False False\n",
      " False False  True False False False False False False False False False\n",
      " False]\n",
      "Index(['ER40FEAR', 'Flanker_AgeAdj', 'SCPT_FP', 'NEOFAC_N', 'PMAT24_A_SI',\n",
      "       'ListSort_AgeAdj', 'ER40_CR', 'AngHostil_Unadj', 'EmotSupp_Unadj',\n",
      "       'SCPT_TPRT', 'PMAT24_A_CR', 'SelfEff_Unadj', 'DDisc_SV_3yr_200',\n",
      "       'PosAffect_Unadj', 'PercStress_Unadj', 'SCPT_TN', 'DDisc_SV_5yr_40K',\n",
      "       'DDisc_SV_1mo_40K', 'LifeSatisf_Unadj', 'ER40SAD', 'VSPLOT_OFF',\n",
      "       'AngAffect_Unadj', 'DDisc_AUC_200', 'ReadEng_AgeAdj',\n",
      "       'CogEarlyComp_AgeAdj', 'DDisc_SV_1mo_200', 'CogTotalComp_AgeAdj',\n",
      "       'DDisc_SV_10yr_40K', 'DDisc_SV_1yr_40K', 'DDisc_SV_6mo_200',\n",
      "       'PSQI_Score', 'SCPT_TP', 'CardSort_AgeAdj', 'Age_recoded', 'NEOFAC_C',\n",
      "       'IWRD_TOT', 'SCPT_LRNR', 'DDisc_SV_3yr_40K', 'CogFluidComp_AgeAdj',\n",
      "       'ER40NOE', 'VSPLOT_TC', 'PercHostil_Unadj', 'NEOFAC_A',\n",
      "       'CogCrystalComp_AgeAdj', 'ER40HAP', 'AngAggr_Unadj', 'FearSomat_Unadj',\n",
      "       'MeanPurp_Unadj', 'SCPT_SPEC', 'Friendship_Unadj', 'NEOFAC_E',\n",
      "       'SCPT_FN', 'VSPLOT_CRTE', 'NEOFAC_O', 'InstruSupp_Unadj', 'ER40ANG',\n",
      "       'PicVocab_AgeAdj', 'DDisc_AUC_40K', 'DDisc_SV_5yr_200',\n",
      "       'ProcSpeed_AgeAdj', 'PMAT24_A_RTCR', 'SCPT_SEN', 'DDisc_SV_1yr_200',\n",
      "       'FearAffect_Unadj', 'ER40_CRT', 'PercReject_Unadj', 'PicSeq_AgeAdj',\n",
      "       'DDisc_SV_6mo_40K', 'Loneliness_Unadj', 'DDisc_SV_10yr_200',\n",
      "       'Sadness_Unadj', 'IWRD_RTC', 'Age_recoded'],\n",
      "      dtype='object')\n"
     ]
    }
   ],
   "source": [
    "print(rfecv.support_.sum())\n",
    "print(rfecv.support_)\n",
    "X_columns = X_scaled.columns\n",
    "print(X_columns)"
   ]
  },
  {
   "cell_type": "code",
   "execution_count": 67,
   "metadata": {},
   "outputs": [
    {
     "data": {
      "text/plain": [
       "Index(['SelfEff_Unadj', 'PosAffect_Unadj', 'VSPLOT_OFF', 'AngAffect_Unadj',\n",
       "       'CogEarlyComp_AgeAdj', 'DDisc_SV_10yr_40K', 'DDisc_SV_1yr_40K',\n",
       "       'CardSort_AgeAdj', 'NEOFAC_C', 'AngAggr_Unadj', 'FearSomat_Unadj',\n",
       "       'NEOFAC_O', 'DDisc_SV_1yr_200'],\n",
       "      dtype='object')"
      ]
     },
     "execution_count": 67,
     "metadata": {},
     "output_type": "execute_result"
    }
   ],
   "source": [
    "X_columns[rfecv.support_]"
   ]
  },
  {
   "cell_type": "code",
   "execution_count": 68,
   "metadata": {},
   "outputs": [
    {
     "data": {
      "text/plain": [
       "RFECV(cv=StratifiedKFold(n_splits=5, random_state=None, shuffle=False),\n",
       "      estimator=SVC(C=1.0, cache_size=200, class_weight='balanced', coef0=0.0,\n",
       "                    decision_function_shape='ovr', degree=3,\n",
       "                    gamma='auto_deprecated', kernel='linear', max_iter=-1,\n",
       "                    probability=False, random_state=None, shrinking=True,\n",
       "                    tol=0.001, verbose=False),\n",
       "      min_features_to_select=1, n_jobs=None, scoring='accuracy', step=1,\n",
       "      verbose=0)"
      ]
     },
     "execution_count": 68,
     "metadata": {},
     "output_type": "execute_result"
    }
   ],
   "source": [
    "svc = SVC(kernel = 'linear', class_weight='balanced')\n",
    "# rfecv = RFECV(log_reg, step = 1, cv = StratifiedKFold(5), scoring = 'accuracy')\n",
    "rfecv_svc = RFECV(svc, step = 1, cv = StratifiedKFold(5), scoring = 'accuracy')\n",
    "rfecv_svc.fit(X_scaled_array,y)"
   ]
  },
  {
   "cell_type": "code",
   "execution_count": 69,
   "metadata": {},
   "outputs": [
    {
     "name": "stdout",
     "output_type": "stream",
     "text": [
      "Optimal number of features : 47\n"
     ]
    },
    {
     "data": {
      "image/png": "[encoded data removed]",
      "text/plain": [
       "<Figure size 432x288 with 1 Axes>"
      ]
     },
     "metadata": {
      "needs_background": "light"
     },
     "output_type": "display_data"
    }
   ],
   "source": [
    "print(\"Optimal number of features : %d\" % rfecv_svc.n_features_)\n",
    "\n",
    "# Plot number of features VS. cross-validation scores\n",
    "plt.figure()\n",
    "plt.xlabel(\"Number of features selected\")\n",
    "plt.ylabel(\"Cross validation score (nb of correct classifications)\")\n",
    "plt.plot(range(1, len(rfecv_svc.grid_scores_) + 1), rfecv_svc.grid_scores_)\n",
    "plt.show()"
   ]
  },
  {
   "cell_type": "code",
   "execution_count": 110,
   "metadata": {},
   "outputs": [
    {
     "name": "stdout",
     "output_type": "stream",
     "text": [
      "0.6286979684952472\n"
     ]
    },
    {
     "data": {
      "text/plain": [
       "Index(['Flanker_AgeAdj', 'SCPT_FP', 'PMAT24_A_SI', 'ListSort_AgeAdj',\n",
       "       'EmotSupp_Unadj', 'SCPT_TPRT', 'PMAT24_A_CR', 'SelfEff_Unadj',\n",
       "       'PosAffect_Unadj', 'PercStress_Unadj', 'SCPT_TN', 'DDisc_SV_1mo_40K',\n",
       "       'ER40SAD', 'VSPLOT_OFF', 'AngAffect_Unadj', 'ReadEng_AgeAdj',\n",
       "       'CogEarlyComp_AgeAdj', 'DDisc_SV_1mo_200', 'DDisc_SV_10yr_40K',\n",
       "       'DDisc_SV_1yr_40K', 'DDisc_SV_6mo_200', 'PSQI_Score', 'CardSort_AgeAdj',\n",
       "       'Age_recoded', 'NEOFAC_C', 'DDisc_SV_3yr_40K', 'CogFluidComp_AgeAdj',\n",
       "       'VSPLOT_TC', 'CogCrystalComp_AgeAdj', 'ER40HAP', 'AngAggr_Unadj',\n",
       "       'FearSomat_Unadj', 'MeanPurp_Unadj', 'Friendship_Unadj', 'NEOFAC_E',\n",
       "       'VSPLOT_CRTE', 'NEOFAC_O', 'ER40ANG', 'PicVocab_AgeAdj',\n",
       "       'ProcSpeed_AgeAdj', 'SCPT_SEN', 'DDisc_SV_1yr_200', 'ER40_CRT',\n",
       "       'PercReject_Unadj', 'PicSeq_AgeAdj', 'Loneliness_Unadj', 'IWRD_RTC'],\n",
       "      dtype='object')"
      ]
     },
     "execution_count": 110,
     "metadata": {},
     "output_type": "execute_result"
    }
   ],
   "source": [
    "print(rfecv_svc.grid_scores_[2])\n",
    "X_columns[rfecv_svc.support_]"
   ]
  },
  {
   "cell_type": "code",
   "execution_count": 118,
   "metadata": {},
   "outputs": [
    {
     "data": {
      "image/png": "[encoded data removed]",
      "text/plain": [
       "<Figure size 720x360 with 1 Axes>"
      ]
     },
     "metadata": {
      "needs_background": "light"
     },
     "output_type": "display_data"
    }
   ],
   "source": [
    "# Plot number of features VS. cross-validation scores for the svm and logistic regression models\n",
    "plt.figure()\n",
    "\n",
    "plt.xlabel(\"Number of features selected\")\n",
    "plt.ylabel(\"Cross validation score (nb of correct classifications)\")\n",
    "plt.plot(range(1,len(rfecv.grid_scores_) + 1), rfecv.grid_scores_, label = 'Logistic Regression')\n",
    "plt.plot(range(1, len(rfecv.grid_scores_) + 1), rfecv_svc.grid_scores_, label = 'Linear SVM')\n",
    "plt.legend()\n",
    "plt.show()\n",
    "# plt.savefig('rfecv_logreg_svm.png', dpi=300, bbox_inches='tight')"
   ]
  },
  {
   "cell_type": "code",
   "execution_count": 72,
   "metadata": {},
   "outputs": [
    {
     "name": "stdout",
     "output_type": "stream",
     "text": [
      "5\n",
      "10\n",
      "15\n",
      "20\n",
      "25\n",
      "30\n",
      "35\n",
      "40\n",
      "45\n",
      "50\n",
      "55\n",
      "60\n",
      "65\n",
      "70\n"
     ]
    }
   ],
   "source": [
    "X_scaled_columns = np.array(X_scaled.columns)\n",
    "remaining_features = []\n",
    "for i in range(1,len(X.columns)):\n",
    "    if i%5 == 0:\n",
    "        print(i)\n",
    "    model=RFE(log_reg, n_features_to_select = i)\n",
    "    model.fit(X_scaled,y)\n",
    "    supports_idx = model.get_support()\n",
    "    supports = X_scaled_columns[supports_idx]\n",
    "    remaining_features.append(supports)\n",
    "    if i < len(X.columns):\n",
    "        model = None\n"
   ]
  },
  {
   "cell_type": "code",
   "execution_count": 73,
   "metadata": {},
   "outputs": [
    {
     "name": "stdout",
     "output_type": "stream",
     "text": [
      "['VSPLOT_OFF']\n",
      "['VSPLOT_OFF' 'AngAggr_Unadj']\n",
      "['VSPLOT_OFF' 'AngAffect_Unadj' 'AngAggr_Unadj']\n",
      "['VSPLOT_OFF' 'AngAffect_Unadj' 'DDisc_SV_10yr_40K' 'AngAggr_Unadj']\n",
      "['VSPLOT_OFF' 'AngAffect_Unadj' 'DDisc_SV_10yr_40K' 'DDisc_SV_1yr_40K'\n",
      " 'AngAggr_Unadj']\n",
      "['SelfEff_Unadj' 'VSPLOT_OFF' 'AngAffect_Unadj' 'DDisc_SV_10yr_40K'\n",
      " 'DDisc_SV_1yr_40K' 'AngAggr_Unadj']\n",
      "['SelfEff_Unadj' 'VSPLOT_OFF' 'AngAffect_Unadj' 'DDisc_SV_10yr_40K'\n",
      " 'DDisc_SV_1yr_40K' 'NEOFAC_C' 'AngAggr_Unadj']\n",
      "['SelfEff_Unadj' 'VSPLOT_OFF' 'AngAffect_Unadj' 'DDisc_SV_10yr_40K'\n",
      " 'DDisc_SV_1yr_40K' 'NEOFAC_C' 'AngAggr_Unadj' 'FearSomat_Unadj']\n",
      "['SelfEff_Unadj' 'VSPLOT_OFF' 'AngAffect_Unadj' 'DDisc_SV_10yr_40K'\n",
      " 'DDisc_SV_1yr_40K' 'NEOFAC_C' 'AngAggr_Unadj' 'FearSomat_Unadj'\n",
      " 'DDisc_SV_1yr_200']\n",
      "['SelfEff_Unadj' 'PosAffect_Unadj' 'VSPLOT_OFF' 'AngAffect_Unadj'\n",
      " 'DDisc_SV_10yr_40K' 'DDisc_SV_1yr_40K' 'NEOFAC_C' 'AngAggr_Unadj'\n",
      " 'FearSomat_Unadj' 'DDisc_SV_1yr_200']\n"
     ]
    }
   ],
   "source": [
    "# print(len(remaining_features))\n",
    "for i in range(10):\n",
    "    print(remaining_features[i])"
   ]
  },
  {
   "cell_type": "code",
   "execution_count": 74,
   "metadata": {},
   "outputs": [
    {
     "name": "stdout",
     "output_type": "stream",
     "text": [
      "5\n",
      "10\n",
      "15\n",
      "20\n",
      "25\n",
      "30\n",
      "35\n",
      "40\n",
      "45\n",
      "50\n",
      "55\n",
      "60\n",
      "65\n",
      "70\n"
     ]
    }
   ],
   "source": [
    "X_scaled_columns = np.array(X_scaled.columns)\n",
    "svc_remaining_features = []\n",
    "for i in range(1,len(X.columns)):\n",
    "    if i%5 == 0:\n",
    "        print(i)\n",
    "    model=RFE(svc, n_features_to_select = i)\n",
    "    model.fit(X_scaled,y)\n",
    "    supports_idx = model.get_support()\n",
    "    supports = X_scaled_columns[supports_idx]\n",
    "    svc_remaining_features.append(supports)\n",
    "    if i < len(X.columns):\n",
    "        model = None\n"
   ]
  },
  {
   "cell_type": "code",
   "execution_count": 75,
   "metadata": {},
   "outputs": [
    {
     "name": "stdout",
     "output_type": "stream",
     "text": [
      "['AngAggr_Unadj']\n",
      "['VSPLOT_OFF' 'AngAggr_Unadj']\n",
      "['VSPLOT_OFF' 'AngAggr_Unadj' 'FearSomat_Unadj']\n",
      "['SelfEff_Unadj' 'VSPLOT_OFF' 'AngAggr_Unadj' 'FearSomat_Unadj']\n",
      "['SelfEff_Unadj' 'VSPLOT_OFF' 'NEOFAC_C' 'AngAggr_Unadj' 'FearSomat_Unadj']\n",
      "['SelfEff_Unadj' 'VSPLOT_OFF' 'NEOFAC_C' 'AngAggr_Unadj' 'FearSomat_Unadj'\n",
      " 'DDisc_SV_1yr_200']\n",
      "['SelfEff_Unadj' 'VSPLOT_OFF' 'DDisc_SV_1yr_40K' 'NEOFAC_C'\n",
      " 'AngAggr_Unadj' 'FearSomat_Unadj' 'DDisc_SV_1yr_200']\n",
      "['SelfEff_Unadj' 'VSPLOT_OFF' 'AngAffect_Unadj' 'DDisc_SV_1yr_40K'\n",
      " 'NEOFAC_C' 'AngAggr_Unadj' 'FearSomat_Unadj' 'DDisc_SV_1yr_200']\n",
      "['SelfEff_Unadj' 'VSPLOT_OFF' 'AngAffect_Unadj' 'DDisc_SV_10yr_40K'\n",
      " 'DDisc_SV_1yr_40K' 'NEOFAC_C' 'AngAggr_Unadj' 'FearSomat_Unadj'\n",
      " 'DDisc_SV_1yr_200']\n",
      "['SelfEff_Unadj' 'VSPLOT_OFF' 'AngAffect_Unadj' 'CogEarlyComp_AgeAdj'\n",
      " 'DDisc_SV_10yr_40K' 'DDisc_SV_1yr_40K' 'NEOFAC_C' 'AngAggr_Unadj'\n",
      " 'FearSomat_Unadj' 'DDisc_SV_1yr_200']\n"
     ]
    }
   ],
   "source": [
    "# print(len(remaining_features))\n",
    "for i in range(10):\n",
    "    print(svc_remaining_features[i])"
   ]
  },
  {
   "cell_type": "code",
   "execution_count": 76,
   "metadata": {},
   "outputs": [
    {
     "name": "stdout",
     "output_type": "stream",
     "text": [
      "47\n",
      "RFECV Optimal SVM features\n",
      "Index(['Flanker_AgeAdj', 'SCPT_FP', 'PMAT24_A_SI', 'ListSort_AgeAdj',\n",
      "       'EmotSupp_Unadj', 'SCPT_TPRT', 'PMAT24_A_CR', 'SelfEff_Unadj',\n",
      "       'PosAffect_Unadj', 'PercStress_Unadj', 'SCPT_TN', 'DDisc_SV_1mo_40K',\n",
      "       'ER40SAD', 'VSPLOT_OFF', 'AngAffect_Unadj', 'ReadEng_AgeAdj',\n",
      "       'CogEarlyComp_AgeAdj', 'DDisc_SV_1mo_200', 'DDisc_SV_10yr_40K',\n",
      "       'DDisc_SV_1yr_40K', 'DDisc_SV_6mo_200', 'PSQI_Score', 'CardSort_AgeAdj',\n",
      "       'Age_recoded', 'NEOFAC_C', 'DDisc_SV_3yr_40K', 'CogFluidComp_AgeAdj',\n",
      "       'VSPLOT_TC', 'CogCrystalComp_AgeAdj', 'ER40HAP', 'AngAggr_Unadj',\n",
      "       'FearSomat_Unadj', 'MeanPurp_Unadj', 'Friendship_Unadj', 'NEOFAC_E',\n",
      "       'VSPLOT_CRTE', 'NEOFAC_O', 'ER40ANG', 'PicVocab_AgeAdj',\n",
      "       'ProcSpeed_AgeAdj', 'SCPT_SEN', 'DDisc_SV_1yr_200', 'ER40_CRT',\n",
      "       'PercReject_Unadj', 'PicSeq_AgeAdj', 'Loneliness_Unadj', 'IWRD_RTC'],\n",
      "      dtype='object')\n",
      "13\n",
      "RFECV Optimval Logistic Regression\n",
      "Index(['SelfEff_Unadj', 'PosAffect_Unadj', 'VSPLOT_OFF', 'AngAffect_Unadj',\n",
      "       'CogEarlyComp_AgeAdj', 'DDisc_SV_10yr_40K', 'DDisc_SV_1yr_40K',\n",
      "       'CardSort_AgeAdj', 'NEOFAC_C', 'AngAggr_Unadj', 'FearSomat_Unadj',\n",
      "       'NEOFAC_O', 'DDisc_SV_1yr_200'],\n",
      "      dtype='object')\n"
     ]
    }
   ],
   "source": [
    "print(rfecv_svc.support_.sum())\n",
    "print('RFECV Optimal SVM features')\n",
    "print(X_scaled.columns[rfecv_svc.support_])\n",
    "# 10 top measures from 'RFECV_And_10features_determination.ipynb' svc:\n",
    "# 'CardSort_AgeAdj', 'DDisc_SV_1yr_200', 'DDisc_SV_1yr_40K', 'VSPLOT_OFF','CogEarlyComp_AgeAdj', \n",
    "# 'AngAggr_Unadj', 'FearSomat_Unadj','SelfEff_Unadj', 'NEOFAC_C', 'Gender_recoded'\n",
    "\n",
    "print(rfecv.support_.sum())\n",
    "print('RFECV Optimval Logistic Regression')\n",
    "print(X_scaled.columns[rfecv.support_])"
   ]
  },
  {
   "cell_type": "code",
   "execution_count": 83,
   "metadata": {},
   "outputs": [
    {
     "name": "stdout",
     "output_type": "stream",
     "text": [
      "0.7553464499572284\n",
      "0\n"
     ]
    },
    {
     "data": {
      "text/plain": [
       "0"
      ]
     },
     "execution_count": 83,
     "metadata": {},
     "output_type": "execute_result"
    }
   ],
   "source": [
    "X_logreg_top = np.array(X['VSPLOT_OFF']).reshape(-1, 1)\n",
    "\n",
    "log_reg_mod = LogisticRegressionCV(penalty = 'l1', solver = 'liblinear', class_weight='balanced', cv = 5)\n",
    "log_reg_mod.fit(X_logreg_top, y)\n",
    "print(log_reg_mod.score(X_logreg_top, y))\n",
    "pred_labels = log_reg_mod.predict(X_logreg_top)\n",
    "print(sum(pred_labels == 1))"
   ]
  },
  {
   "cell_type": "code",
   "execution_count": 95,
   "metadata": {},
   "outputs": [],
   "source": [
    "# ['SelfEff_Unadj' 'VSPLOT_OFF' 'AngAffect_Unadj' 'CogEarlyComp_AgeAdj'\n",
    "#  'DDisc_SV_10yr_40K' 'DDisc_SV_1yr_40K' 'NEOFAC_C' 'AngAggr_Unadj'\n",
    "#  'FearSomat_Unadj' 'DDisc_SV_1yr_200']\n",
    "X_svm_top = np.array(pd.concat([X['SelfEff_Unadj'], X['VSPLOT_OFF'], X['AngAffect_Unadj'], X['CogEarlyComp_AgeAdj'], \\\n",
    "                               X['DDisc_SV_10yr_40K'], X['DDisc_SV_1yr_40K'], X['NEOFAC_C'], X['AngAggr_Unadj'],...\n",
    "                               X['FearSomat_Unadj'], X['DDisc_SV_1yr_200']], axis = 1))#.reshape(-1, 1)\n",
    "model_svc = SVC(kernel = 'linear', class_weight='balanced')\n",
    "model_svc_scores = cross_validate(model_svc, X_svm_top, y, cv = StratifiedKFold(5))\n",
    "print(model_svc_scores['test_score'].mean())\n",
    "cross_val_predict(model_svc, X_svm_top, y, cv = 5)"
   ]
  },
  {
   "cell_type": "code",
   "execution_count": 97,
   "metadata": {},
   "outputs": [],
   "source": [
    "model_svc = SVC(kernel = 'linear', class_weight='balanced')\n",
    "model_svc_scores = cross_validate(model_svc, X_svm_top, y, cv = StratifiedKFold(5))"
   ]
  },
  {
   "cell_type": "code",
   "execution_count": 98,
   "metadata": {},
   "outputs": [
    {
     "name": "stdout",
     "output_type": "stream",
     "text": [
      "0.5945787880277882\n"
     ]
    }
   ],
   "source": [
    "print(model_svc_scores['test_score'].mean())"
   ]
  },
  {
   "cell_type": "code",
   "execution_count": 99,
   "metadata": {},
   "outputs": [
    {
     "data": {
      "text/plain": [
       "array([0, 0, 0, ..., 1, 0, 0])"
      ]
     },
     "execution_count": 99,
     "metadata": {},
     "output_type": "execute_result"
    }
   ],
   "source": [
    "cross_val_predict(model_svc, X_svm_top, y, cv = 5)"
   ]
  },
  {
   "cell_type": "code",
   "execution_count": 109,
   "metadata": {},
   "outputs": [
    {
     "name": "stdout",
     "output_type": "stream",
     "text": [
      "0.6338261424043544\n"
     ]
    },
    {
     "data": {
      "text/plain": [
       "array([0, 0, 0, ..., 1, 1, 0])"
      ]
     },
     "execution_count": 109,
     "metadata": {},
     "output_type": "execute_result"
    }
   ],
   "source": [
    "# ['SelfEff_Unadj' 'VSPLOT_OFF' 'AngAffect_Unadj' 'CogEarlyComp_AgeAdj'\n",
    "#  'DDisc_SV_10yr_40K' 'DDisc_SV_1yr_40K' 'NEOFAC_C' 'AngAggr_Unadj'\n",
    "#  'FearSomat_Unadj' 'DDisc_SV_1yr_200']\n",
    "# X_svm_top = np.array(X['AngAggr_Unadj']).reshape(-1, 1)\n",
    "X_svm_top = pd.concat([X['AngAggr_Unadj'], X['VSPLOT_OFF'], X['FearSomat_Unadj']], axis = 1)\n",
    "model_svc = SVC(kernel = 'linear', class_weight='balanced')\n",
    "model_svc_scores = cross_validate(model_svc, X_svm_top, y, cv = StratifiedKFold(5))\n",
    "print(model_svc_scores['test_score'].mean())\n",
    "cross_val_predict(model_svc, X_svm_top, y, cv = 5)"
   ]
  },
  {
   "cell_type": "code",
   "execution_count": null,
   "metadata": {},
   "outputs": [],
   "source": []
  }
 ],
 "metadata": {
  "kernelspec": {
   "display_name": "Python 3",
   "language": "python",
   "name": "python3"
  },
  "language_info": {
   "codemirror_mode": {
    "name": "ipython",
    "version": 3
   },
   "file_extension": ".py",
   "mimetype": "text/x-python",
   "name": "python",
   "nbconvert_exporter": "python",
   "pygments_lexer": "ipython3",
   "version": "3.7.3"
  }
 },
 "nbformat": 4,
 "nbformat_minor": 2
}
